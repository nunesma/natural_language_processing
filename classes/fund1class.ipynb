{
 "cells": [
  {
   "cell_type": "markdown",
   "metadata": {},
   "source": [
    "# Background and Expectations Analysis\n",
    "## Fundamentals of Research Methodology - first class"
   ]
  },
  {
   "cell_type": "code",
   "execution_count": 1,
   "metadata": {},
   "outputs": [],
   "source": [
    "%matplotlib inline\n",
    "\n",
    "import pandas as pd\n",
    "import numpy as np\n",
    "import matplotlib.pyplot as plt"
   ]
  },
  {
   "cell_type": "code",
   "execution_count": 2,
   "metadata": {},
   "outputs": [],
   "source": [
    "banco = pd.read_csv('fund1class.csv')\n",
    "banco = banco.rename(index=str, columns={'Carimbo de data/hora':'data', 'Nome de usuário':'email', 'Nome completo':'nome', \n",
    "               'Você já participou ou participa de alguma pesquisa científica como pesquisador?':'pesq', \n",
    "               'Você já participou ou participa de Pibic ou Pibiti?':'pibic', 'Você é autor ou co-autor de':'autor', \n",
    "               'Quais competências você acredita que terá ao final desta disciplina?':'compt'})\n"
   ]
  },
  {
   "cell_type": "code",
   "execution_count": 3,
   "metadata": {},
   "outputs": [
    {
     "data": {
      "text/plain": [
       "0                       Produzir trabalhos cientificos \n",
       "1     Aprender a construir da melhor forma o meu art...\n",
       "2     Aprender a formatação de trabalhos acadêmicos,...\n",
       "3     Acredito que ao final da disciplina conseguire...\n",
       "4     Irei aprender a construir um artigo de forma p...\n",
       "5     Dominar as principais normas p redação de pesq...\n",
       "6     De escrever um artigo, com tudo que isso inclu...\n",
       "7                                                   NaN\n",
       "8                                                   NaN\n",
       "9     Acredito que a disciplina me capacitará a conf...\n",
       "10    A competência de escrever artigos voltados par...\n",
       "11    Aptidão para aplicar o método científico dentr...\n",
       "12    Aprender sobre os métodos científicos, como el...\n",
       "13    Serei mais capacitada sobre as regras necessár...\n",
       "14    Acredito que vou ter um arcabouço técnico para...\n",
       "15    Ser capaz de elaborar um artigo de boa qualida...\n",
       "16                                Aperfeiçoar tecnicas \n",
       "17    Capacidade de elaborar trabalho científicos de...\n",
       "18    Serei capaz de elaborar com mais técnica um tr...\n",
       "19    Elaborar e compreender melhor trabalhos cientí...\n",
       "20    Capacidade de planejamento e execução de pesqu...\n",
       "21    Habilidade para elaborar quaisquer trabalhos c...\n",
       "22    De escrever um artigo de forma clara e concisa...\n",
       "23    Compreender melhor como elaborar um trabalho c...\n",
       "24    Capacidade de entender os caminhos e produzir ...\n",
       "25    Capacidade de produzir trabalhos científicos d...\n",
       "26    Acredito que serei capaz de compreender melhor...\n",
       "Name: compt, dtype: object"
      ]
     },
     "execution_count": 3,
     "metadata": {},
     "output_type": "execute_result"
    }
   ],
   "source": [
    "banco['compt']"
   ]
  },
  {
   "cell_type": "code",
   "execution_count": null,
   "metadata": {
    "collapsed": true
   },
   "outputs": [],
   "source": []
  }
 ],
 "metadata": {
  "kernelspec": {
   "display_name": "Python 3",
   "language": "python",
   "name": "python3"
  },
  "language_info": {
   "codemirror_mode": {
    "name": "ipython",
    "version": 3
   },
   "file_extension": ".py",
   "mimetype": "text/x-python",
   "name": "python",
   "nbconvert_exporter": "python",
   "pygments_lexer": "ipython3",
   "version": "3.5.5"
  }
 },
 "nbformat": 4,
 "nbformat_minor": 2
}
